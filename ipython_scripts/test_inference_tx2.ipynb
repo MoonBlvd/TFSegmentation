{
 "cells": [
  {
   "cell_type": "code",
   "execution_count": null,
   "metadata": {},
   "outputs": [],
   "source": [
    "import os\n",
    "import sys\n",
    "sys.path.append('../')\n",
    "from semantic_segmentation import Segmentor\n",
    "from PIL import Image\n",
    "\n",
    "IMAGE_ROOT = '/media/DATA/UnrealLandingDataset/AirSimCollectData/image'"
   ]
  },
  {
   "cell_type": "code",
   "execution_count": null,
   "metadata": {},
   "outputs": [],
   "source": [
    "class arguments():\n",
    "    model = 'FCN8sMobileNet'\n",
    "    mode = 'inference'\n",
    "    operator = 'Train'\n",
    "    \n",
    "    # Directories arguments\n",
    "    data_dir = \"/media/DATA/UnrealLandingDataset/AirSimCollectData/\" #\"full_cityscapes_res\"\n",
    "    exp_dir =  \"fcn8s_mobilenet\"\n",
    "    out_dir = \"fcn8s_mobilenet\"\n",
    "\n",
    "    # Data arguments\n",
    "    img_height = 512\n",
    "    img_width = 512 \n",
    "    num_channels = 3\n",
    "    num_classes = 18\n",
    "    # Train arguments\n",
    "    num_epochs = 1 \n",
    "    batch_size = 1\n",
    "    shuffle = False\n",
    "    data_mode = \"test\"\n",
    "    save_every = 5\n",
    "    test_every = 5\n",
    "    max_to_keep = 5\n",
    "    weighted_loss = False\n",
    "    random_cropping = False\n",
    "\n",
    "    # Models arguments\n",
    "    learning_rate = 0.0001\n",
    "    weight_decay = 0.0005\n",
    "    pretrained_path = \"../pretrained_weights/mobilenet_v1.pkl\"\n",
    "    batchnorm_enabled = True\n",
    "    # Misc arguments\n",
    "    verbose = False\n",
    "    \n",
    "    checkpoint_dir = '/home/brianyao/Documents/TFSegmentation/experiments/fcn8s_mobilenet/checkpoints'\n",
    "    checkpoint_best_dir = '/home/brianyao/Documents/TFSegmentation/experiments/fcn8s_mobilenet/checkpoints/best'\n",
    "    summary_dir = 'temp_summary'\n",
    "args = arguments()"
   ]
  },
  {
   "cell_type": "code",
   "execution_count": null,
   "metadata": {},
   "outputs": [],
   "source": [
    "model = Segmentor(args)"
   ]
  },
  {
   "cell_type": "code",
   "execution_count": null,
   "metadata": {},
   "outputs": [],
   "source": [
    "image = os.path.join(IMAGE_ROOT, '3566-0.png')\n",
    "image = np.asarray(Image.open(image).resize((512,512)).convert('RGB'))\n",
    "\n",
    "segmentation = Segmentor.run(image)"
   ]
  }
 ],
 "metadata": {
  "kernelspec": {
   "display_name": "Python 3",
   "language": "python",
   "name": "python3"
  },
  "language_info": {
   "codemirror_mode": {
    "name": "ipython",
    "version": 3
   },
   "file_extension": ".py",
   "mimetype": "text/x-python",
   "name": "python",
   "nbconvert_exporter": "python",
   "pygments_lexer": "ipython3",
   "version": "3.7.2"
  }
 },
 "nbformat": 4,
 "nbformat_minor": 2
}
